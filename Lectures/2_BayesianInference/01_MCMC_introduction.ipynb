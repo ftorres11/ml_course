{
 "cells": [
  {
   "cell_type": "markdown",
   "metadata": {},
   "source": [
    "ML Course, Bogotá, Colombia  (&copy; Josh Bloom; June 2019)"
   ]
  },
  {
   "cell_type": "code",
   "execution_count": 1,
   "metadata": {},
   "outputs": [
    {
     "data": {
      "text/html": [
       "<style>\n",
       "\n",
       ".rendered_html\n",
       "{\n",
       "  color: #2C5494;\n",
       "  font-family: Ubuntu;\n",
       "  font-size: 140%;\n",
       "  line-height: 1.1;\n",
       "  margin: 0.5em 0;\n",
       "  }\n",
       "\n",
       ".talk_title\n",
       "{\n",
       "  color: #498AF3;\n",
       "  font-size: 250%;\n",
       "  font-weight:bold;\n",
       "  line-height: 1.2; \n",
       "  margin: 10px 50px 10px;\n",
       "  }\n",
       "\n",
       ".subtitle\n",
       "{\n",
       "  color: #386BBC;\n",
       "  font-size: 180%;\n",
       "  font-weight:bold;\n",
       "  line-height: 1.2; \n",
       "  margin: 20px 50px 20px;\n",
       "  }\n",
       "\n",
       ".slide-header, p.slide-header\n",
       "{\n",
       "  color: #498AF3;\n",
       "  font-size: 200%;\n",
       "  font-weight:bold;\n",
       "  margin: 0px 20px 10px;\n",
       "  page-break-before: always;\n",
       "  text-align: center;\n",
       "  }\n",
       "\n",
       ".rendered_html h1\n",
       "{\n",
       "  color: #498AF3;\n",
       "  line-height: 1.2; \n",
       "  margin: 0.15em 0em 0.5em;\n",
       "  page-break-before: always;\n",
       "  text-align: center;\n",
       "  }\n",
       "\n",
       "\n",
       ".rendered_html h2\n",
       "{ \n",
       "  color: #386BBC;\n",
       "  line-height: 1.2;\n",
       "  margin: 1.1em 0em 0.5em;\n",
       "  }\n",
       "\n",
       ".rendered_html h3\n",
       "{ \n",
       "  font-size: 100%;\n",
       "  line-height: 1.2;\n",
       "  margin: 1.1em 0em 0.5em;\n",
       "  }\n",
       "\n",
       ".rendered_html li\n",
       "{\n",
       "  line-height: 1.8;\n",
       "  }\n",
       "\n",
       ".input_prompt, .CodeMirror-lines, .output_area\n",
       "{\n",
       "  font-family: Consolas;\n",
       "  font-size: 120%;\n",
       "  }\n",
       "\n",
       ".gap-above\n",
       "{\n",
       "  padding-top: 200px;\n",
       "  }\n",
       "\n",
       ".gap01\n",
       "{\n",
       "  padding-top: 10px;\n",
       "  }\n",
       "\n",
       ".gap05\n",
       "{\n",
       "  padding-top: 50px;\n",
       "  }\n",
       "\n",
       ".gap1\n",
       "{\n",
       "  padding-top: 100px;\n",
       "  }\n",
       "\n",
       ".gap2\n",
       "{\n",
       "  padding-top: 200px;\n",
       "  }\n",
       "\n",
       ".gap3\n",
       "{\n",
       "  padding-top: 300px;\n",
       "  }\n",
       "\n",
       ".emph\n",
       "{\n",
       "  color: #386BBC;\n",
       "  }\n",
       "\n",
       ".warn\n",
       "{\n",
       "  color: red;\n",
       "  }\n",
       "\n",
       ".center\n",
       "{\n",
       "  text-align: center;\n",
       "  }\n",
       "\n",
       ".nb_link\n",
       "{\n",
       "    padding-bottom: 0.5em;\n",
       "}\n",
       "\n",
       "</style>"
      ],
      "text/plain": [
       "<IPython.core.display.HTML object>"
      ]
     },
     "metadata": {},
     "output_type": "display_data"
    }
   ],
   "source": [
    "%run ../talktools.py"
   ]
  },
  {
   "cell_type": "markdown",
   "metadata": {},
   "source": [
    "# MCMC for Bayesian Inference\n",
    "\n",
    "As we just saw, there are some cases where we can get a closed for the posterior, but many examples we cannot get a closed form. Instead we need to sample the posterior numerically.\n",
    "\n",
    "o Markov Chain Monte Carlo: Stochastic methods useful for sampling from the target posterior distribution\n",
    "\n",
    "o Can be implemented where conjugacy does not hold and grid approximations fail\n",
    "\n",
    "o Can work in high dimensions\n",
    "\n",
    "o Iterative: we must decide when convergence has happened\n",
    "\n",
    "o The resulting density of samples is proportional to the underlying probability distribution\n",
    "\n",
    "o Some Popular methods: [Metropolis-Hastings](https://en.wikipedia.org/wiki/Metropolis%E2%80%93Hastings_algorithm), [NUTS (No U-Turns)](https://arxiv.org/abs/1111.4246), [Hessian-Hamiltonian](https://people.csail.mit.edu/tzumao/h2mc/)..."
   ]
  },
  {
   "cell_type": "markdown",
   "metadata": {},
   "source": [
    "<u>Idea</u>: Suppose that sampling from the posterior $p(\\theta|$**X**) is hard but that we can somehow generate a Markov chain $\\{\\theta(t), t \\in T\\}$ with stationary distribution $p(\\theta|$**X**)\n",
    "\n",
    "- We want to set up a chain that will take us to the stationary distribution $\\pi = p(\\theta|$**X**)\n",
    "\n",
    "- Once we find such a chain, we will start from some initial guess $\\theta^0$ and tune the chain for a large number of steps until it converged to $\\pi$\n",
    "\n",
    "- After convergence we run a bunch more steps of the chain and use those as draws from $p(\\theta|$**X**).\n",
    "\n",
    "- All MCMC methods are based on this idea. The differences are in how the Markov chain transitions are created."
   ]
  },
  {
   "cell_type": "markdown",
   "metadata": {},
   "source": [
    "<img src=\"imgs/ma.png\">"
   ]
  },
  {
   "cell_type": "markdown",
   "metadata": {},
   "source": [
    "<img src=\"imgs/ma1.png\">"
   ]
  },
  {
   "cell_type": "markdown",
   "metadata": {},
   "source": [
    "We can visualize different approaches to sampling [here](https://chi-feng.github.io/mcmc-demo/app.html#AdaptiveMH,standard)."
   ]
  },
  {
   "cell_type": "markdown",
   "metadata": {},
   "source": [
    "## MCMC with PyMC\n",
    "https://pymc-devs.github.io/pymc3/\n",
    "\n",
    "<img width=\"20%\" src=\"https://docs.pymc.io/_static/pymc3_logo.jpg\">\n",
    "\n",
    "https://docs.pymc.io/examples.html\n",
    "\n",
    "```\n",
    "\n",
    "conda install pymc3 \n",
    "```\n",
    "\n",
    "PyMC3 is the most widely used Markov chain Monte Carlo module in Python\n",
    "\n",
    "- It allows straightforward coding of probability models and posterior sampling of those models with standard (optimized) MCMC algorithms\n",
    "- Large and complicated (hierarchical) models can be easily coded in PyMC\n",
    "- Convergence diagnostics and automatic tuning are provided \n",
    "- Users can input custom probability distributions and fitting algorithms \n",
    "-Great documentation"
   ]
  },
  {
   "cell_type": "markdown",
   "metadata": {},
   "source": [
    "Let's look at the Presidental approval rating again:"
   ]
  },
  {
   "cell_type": "code",
   "execution_count": 2,
   "metadata": {},
   "outputs": [
    {
     "data": {
      "text/plain": [
       "Text(0.5, 1.0, 'Posterior distribution: Duque Approval April 12, 2019')"
      ]
     },
     "execution_count": 2,
     "metadata": {},
     "output_type": "execute_result"
    },
    {
     "data": {
      "image/png": "[encoded data removed]",
      "text/plain": [
       "<Figure size 432x288 with 1 Axes>"
      ]
     },
     "metadata": {},
     "output_type": "display_data"
    }
   ],
   "source": [
    "import numpy as np\n",
    "from scipy import stats\n",
    "import matplotlib.pyplot as plt\n",
    "%matplotlib inline\n",
    "import seaborn as sns\n",
    "\n",
    "a = 270\n",
    "n = 900\n",
    "\n",
    "alpha = 0.5\n",
    "beta = 0.5\n",
    "\n",
    "x_theta = np.linspace(0, 1, 101)\n",
    "fig, ax = plt.subplots()\n",
    "\n",
    "p_theta = stats.beta(alpha + a, beta + n - a).pdf(x_theta)\n",
    "ax.plot(x_theta, p_theta, linewidth=3.,label=f\"{alpha}, {beta}\")\n",
    "    \n",
    "ax.legend()\n",
    "ax.set_ylim([0, max(p_theta)])\n",
    "ax.set_xlabel(r\"$\\theta$\")\n",
    "ax.set_ylabel(r\"$p(\\theta)$\")\n",
    "ax.set_title(\"Posterior distribution: Duque Approval April 12, 2019\")"
   ]
  },
  {
   "cell_type": "code",
   "execution_count": 3,
   "metadata": {},
   "outputs": [],
   "source": [
    "import pymc3 as pm\n",
    "\n",
    "with pm.Model() as model:\n",
    "    theta = pm.Beta('theta', alpha, beta)\n",
    "    X = pm.Binomial('X', n, theta, observed=a)"
   ]
  },
  {
   "cell_type": "code",
   "execution_count": 7,
   "metadata": {},
   "outputs": [
    {
     "name": "stderr",
     "output_type": "stream",
     "text": [
      "Sequential sampling (2 chains in 1 job)\n",
      "NUTS: [theta]\n",
      "100%|██████████| 20500/20500 [00:10<00:00, 2006.94it/s]\n",
      "100%|██████████| 20500/20500 [00:09<00:00, 2237.54it/s]\n"
     ]
    }
   ],
   "source": [
    "with model:\n",
    "    step = pm.NUTS()\n",
    "    trace = pm.sample(20000, step=step, njobs=1)"
   ]
  },
  {
   "cell_type": "code",
   "execution_count": 8,
   "metadata": {},
   "outputs": [
    {
     "data": {
      "text/plain": [
       "array([[<matplotlib.axes._subplots.AxesSubplot object at 0x1c1c24eb70>,\n",
       "        <matplotlib.axes._subplots.AxesSubplot object at 0x111b31b70>]],\n",
       "      dtype=object)"
      ]
     },
     "execution_count": 8,
     "metadata": {},
     "output_type": "execute_result"
    },
    {
     "data": {
      "image/png": "[encoded data removed]",
      "text/plain": [
       "<Figure size 864x144 with 2 Axes>"
      ]
     },
     "metadata": {},
     "output_type": "display_data"
    }
   ],
   "source": [
    "pm.traceplot(trace[1000:][::5])"
   ]
  },
  {
   "cell_type": "markdown",
   "metadata": {},
   "source": [
    "Note: we started sampling after a burn-in period of a thousand steps. We also \"pruned\" the result by taking only every 5th step (helps insure some level of independence between samples). "
   ]
  },
  {
   "cell_type": "code",
   "execution_count": 9,
   "metadata": {},
   "outputs": [
    {
     "name": "stderr",
     "output_type": "stream",
     "text": [
      "/Users/jbloom/anaconda3/lib/python3.6/site-packages/matplotlib/axes/_axes.py:6521: MatplotlibDeprecationWarning: \n",
      "The 'normed' kwarg was deprecated in Matplotlib 2.1 and will be removed in 3.1. Use 'density' instead.\n",
      "  alternative=\"'density'\", removal=\"3.1\")\n"
     ]
    },
    {
     "data": {
      "image/png": "[encoded data removed]",
      "text/plain": [
       "<Figure size 432x288 with 1 Axes>"
      ]
     },
     "execution_count": 9,
     "metadata": {},
     "output_type": "execute_result"
    }
   ],
   "source": [
    "ax.hist(trace['theta'][1000:][::5], bins=50, normed=True, label='MCMC posterior')\n",
    "ax.vlines(x=a / n, ymin=0, ymax=max(p_theta), linestyle='--', label=\"Max likelihood\")\n",
    "ax.legend()\n",
    "ax.set_xlim(0.1,0.5)\n",
    "fig"
   ]
  },
  {
   "cell_type": "markdown",
   "metadata": {},
   "source": [
    "So our MCMC results agree with the (closed-form) solution for this simple case."
   ]
  },
  {
   "cell_type": "markdown",
   "metadata": {},
   "source": [
    "Once we have samples from the posterior we can do cool things:\n",
    "\n",
    "Suppose we have B samples $\\theta_1$...$\\theta_B$ from the posterior $p(\\theta|$**X**):\n",
    "\n",
    "1) **Posterior mean**: \n",
    "   \n",
    "The exact equation $E[\\theta|$**X**] = $\\int \\theta p(\\theta|$**X**)$d\\theta$\n",
    "\n",
    "Using the sample $E[\\theta|$**X**] $\\approx \\frac{1}{B} \\sum_{b=1}^B \\theta_b$"
   ]
  },
  {
   "cell_type": "code",
   "execution_count": 10,
   "metadata": {},
   "outputs": [
    {
     "data": {
      "text/plain": [
       "0.3004572329403911"
      ]
     },
     "execution_count": 10,
     "metadata": {},
     "output_type": "execute_result"
    }
   ],
   "source": [
    "trace['theta'][1000:][::5].sum()/len(trace['theta'][1000:][::5])"
   ]
  },
  {
   "cell_type": "markdown",
   "metadata": {},
   "source": [
    "2) **Marginalization**: \n",
    "   \n",
    "The exact equation $p(\\theta_1|$**X**) = $\\int p(\\theta_1,\\theta_2,..\\theta_p|$**X**)$d\\theta_2\\theta_3...\\theta_p$\n",
    "\n",
    "Using the sample $p(\\theta_1|$**X**) $\\sim \\theta_{1,1} ... \\theta_{1,B}$\n",
    "\n",
    "*That is, record the parameter of interest $\\theta_1$ from each sample.*\n",
    "\n",
    "3) **Prediction**: \n",
    "   \n",
    "The exact equation $p(\\tilde{X}|$**X**) = $\\int p(\\tilde{X}|\\theta) p(\\theta|$**X**)$d\\theta$\n",
    "\n",
    "Using the sample $p(\\tilde{X}|$**X**) $\\sim \\tilde{x_1} | \\theta_{1} ... \\tilde{x_B} | \\theta_{B}$\n",
    "\n",
    "*That is, take each sample of $\\theta$ and determine a value for $x$.*"
   ]
  },
  {
   "cell_type": "markdown",
   "metadata": {},
   "source": [
    "## Distributions in pymc3\n",
    "\n",
    "* Continuous - https://docs.pymc.io/api/distributions/continuous.html\n",
    "* Discrete - https://docs.pymc.io/api/distributions/discrete.html\n",
    "* Multivariate - https://docs.pymc.io/api/distributions/multivariate.html\n",
    "\n",
    "For example, if you have a variable which is expected to be Normally distributed, use the `pm.Normal` (Univariate normal log-likelihood)."
   ]
  },
  {
   "cell_type": "code",
   "execution_count": 11,
   "metadata": {},
   "outputs": [],
   "source": [
    "pm.Normal?"
   ]
  },
  {
   "cell_type": "code",
   "execution_count": 12,
   "metadata": {},
   "outputs": [],
   "source": [
    "pm.Bernoulli?"
   ]
  },
  {
   "cell_type": "code",
   "execution_count": null,
   "metadata": {},
   "outputs": [],
   "source": []
  }
 ],
 "metadata": {
  "kernelspec": {
   "display_name": "Python 3",
   "language": "python",
   "name": "python3"
  },
  "language_info": {
   "codemirror_mode": {
    "name": "ipython",
    "version": 3
   },
   "file_extension": ".py",
   "mimetype": "text/x-python",
   "name": "python",
   "nbconvert_exporter": "python",
   "pygments_lexer": "ipython3",
   "version": "3.6.8"
  }
 },
 "nbformat": 4,
 "nbformat_minor": 2
}
